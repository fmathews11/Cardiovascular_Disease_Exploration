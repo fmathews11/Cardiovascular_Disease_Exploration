{
 "cells": [
  {
   "cell_type": "code",
   "execution_count": 1,
   "metadata": {},
   "outputs": [],
   "source": [
    "import pandas as pd,numpy as np\n",
    "import seaborn as sns\n",
    "import matplotlib.pyplot as plt\n",
    "from sklearn.preprocessing import OrdinalEncoder\n",
    "from sklearn.impute import SimpleImputer\n",
    "from sklearn.compose import make_column_transformer\n",
    "from sklearn.pipeline import make_pipeline,Pipeline\n",
    "from sklearn.model_selection import train_test_split\n",
    "from sklearn.ensemble import RandomForestClassifier"
   ]
  },
  {
   "cell_type": "code",
   "execution_count": 2,
   "metadata": {},
   "outputs": [
    {
     "data": {
      "text/html": [
       "<div>\n",
       "<style scoped>\n",
       "    .dataframe tbody tr th:only-of-type {\n",
       "        vertical-align: middle;\n",
       "    }\n",
       "\n",
       "    .dataframe tbody tr th {\n",
       "        vertical-align: top;\n",
       "    }\n",
       "\n",
       "    .dataframe thead th {\n",
       "        text-align: right;\n",
       "    }\n",
       "</style>\n",
       "<table border=\"1\" class=\"dataframe\">\n",
       "  <thead>\n",
       "    <tr style=\"text-align: right;\">\n",
       "      <th></th>\n",
       "      <th>Age</th>\n",
       "      <th>Sex</th>\n",
       "      <th>ChestPainType</th>\n",
       "      <th>RestingBP</th>\n",
       "      <th>Cholesterol</th>\n",
       "      <th>FastingBS</th>\n",
       "      <th>RestingECG</th>\n",
       "      <th>MaxHR</th>\n",
       "      <th>ExerciseAngina</th>\n",
       "      <th>Oldpeak</th>\n",
       "      <th>ST_Slope</th>\n",
       "      <th>HeartDisease</th>\n",
       "    </tr>\n",
       "  </thead>\n",
       "  <tbody>\n",
       "    <tr>\n",
       "      <th>0</th>\n",
       "      <td>40</td>\n",
       "      <td>M</td>\n",
       "      <td>ATA</td>\n",
       "      <td>140</td>\n",
       "      <td>289</td>\n",
       "      <td>0</td>\n",
       "      <td>Normal</td>\n",
       "      <td>172</td>\n",
       "      <td>N</td>\n",
       "      <td>0.0</td>\n",
       "      <td>Up</td>\n",
       "      <td>0</td>\n",
       "    </tr>\n",
       "    <tr>\n",
       "      <th>1</th>\n",
       "      <td>49</td>\n",
       "      <td>F</td>\n",
       "      <td>NAP</td>\n",
       "      <td>160</td>\n",
       "      <td>180</td>\n",
       "      <td>0</td>\n",
       "      <td>Normal</td>\n",
       "      <td>156</td>\n",
       "      <td>N</td>\n",
       "      <td>1.0</td>\n",
       "      <td>Flat</td>\n",
       "      <td>1</td>\n",
       "    </tr>\n",
       "    <tr>\n",
       "      <th>2</th>\n",
       "      <td>37</td>\n",
       "      <td>M</td>\n",
       "      <td>ATA</td>\n",
       "      <td>130</td>\n",
       "      <td>283</td>\n",
       "      <td>0</td>\n",
       "      <td>ST</td>\n",
       "      <td>98</td>\n",
       "      <td>N</td>\n",
       "      <td>0.0</td>\n",
       "      <td>Up</td>\n",
       "      <td>0</td>\n",
       "    </tr>\n",
       "    <tr>\n",
       "      <th>3</th>\n",
       "      <td>48</td>\n",
       "      <td>F</td>\n",
       "      <td>ASY</td>\n",
       "      <td>138</td>\n",
       "      <td>214</td>\n",
       "      <td>0</td>\n",
       "      <td>Normal</td>\n",
       "      <td>108</td>\n",
       "      <td>Y</td>\n",
       "      <td>1.5</td>\n",
       "      <td>Flat</td>\n",
       "      <td>1</td>\n",
       "    </tr>\n",
       "    <tr>\n",
       "      <th>4</th>\n",
       "      <td>54</td>\n",
       "      <td>M</td>\n",
       "      <td>NAP</td>\n",
       "      <td>150</td>\n",
       "      <td>195</td>\n",
       "      <td>0</td>\n",
       "      <td>Normal</td>\n",
       "      <td>122</td>\n",
       "      <td>N</td>\n",
       "      <td>0.0</td>\n",
       "      <td>Up</td>\n",
       "      <td>0</td>\n",
       "    </tr>\n",
       "  </tbody>\n",
       "</table>\n",
       "</div>"
      ],
      "text/plain": [
       "   Age Sex ChestPainType  RestingBP  Cholesterol  FastingBS RestingECG  MaxHR  \\\n",
       "0   40   M           ATA        140          289          0     Normal    172   \n",
       "1   49   F           NAP        160          180          0     Normal    156   \n",
       "2   37   M           ATA        130          283          0         ST     98   \n",
       "3   48   F           ASY        138          214          0     Normal    108   \n",
       "4   54   M           NAP        150          195          0     Normal    122   \n",
       "\n",
       "  ExerciseAngina  Oldpeak ST_Slope  HeartDisease  \n",
       "0              N      0.0       Up             0  \n",
       "1              N      1.0     Flat             1  \n",
       "2              N      0.0       Up             0  \n",
       "3              Y      1.5     Flat             1  \n",
       "4              N      0.0       Up             0  "
      ]
     },
     "execution_count": 2,
     "metadata": {},
     "output_type": "execute_result"
    }
   ],
   "source": [
    "df = pd.read_csv('heart.csv')\n",
    "df.head()"
   ]
  },
  {
   "cell_type": "code",
   "execution_count": null,
   "metadata": {},
   "outputs": [],
   "source": [
    "for column in df.columns.tolist():\n",
    "\n",
    "    plt.figure(figsize = (8,6))\n",
    "\n",
    "    if df[column].nunique() > 10:\n",
    "\n",
    "        sns.histplot(x = df[column])\n",
    "\n",
    "    else:\n",
    "\n",
    "        sns.countplot(x = df[column])\n",
    "    \n",
    "    plt.title(column)\n",
    "    plt.show()"
   ]
  },
  {
   "cell_type": "markdown",
   "metadata": {},
   "source": [
    "How many values do we have with cholesterol == 0?"
   ]
  },
  {
   "cell_type": "code",
   "execution_count": 4,
   "metadata": {},
   "outputs": [
    {
     "name": "stdout",
     "output_type": "stream",
     "text": [
      "Values where cholesterol is zero: 172\n"
     ]
    }
   ],
   "source": [
    "print(f\"Values where cholesterol is zero: {len(df[df.Cholesterol == 0])}\")"
   ]
  },
  {
   "cell_type": "code",
   "execution_count": 5,
   "metadata": {},
   "outputs": [],
   "source": [
    "df.loc[df.Cholesterol == 0,'Cholesterol'] = np.nan"
   ]
  },
  {
   "cell_type": "code",
   "execution_count": 33,
   "metadata": {},
   "outputs": [
    {
     "name": "stdout",
     "output_type": "stream",
     "text": [
      "Age 50\n",
      "Sex 2\n",
      "ChestPainType 4\n",
      "RestingBP 67\n",
      "Cholesterol 222\n",
      "FastingBS 2\n",
      "RestingECG 3\n",
      "MaxHR 119\n",
      "ExerciseAngina 2\n",
      "Oldpeak 53\n",
      "ST_Slope 3\n",
      "HeartDisease 2\n"
     ]
    }
   ],
   "source": [
    "for column in df.columns.tolist():\n",
    "    print(column,df[column].nunique())"
   ]
  },
  {
   "cell_type": "code",
   "execution_count": 21,
   "metadata": {},
   "outputs": [
    {
     "data": {
      "text/plain": [
       "{'Sex': OrdinalEncoder(dtype='int64', handle_unknown='use_encoded_value',\n",
       "                unknown_value=100),\n",
       " 'ExerciseAngina': OrdinalEncoder(dtype='int64', handle_unknown='use_encoded_value',\n",
       "                unknown_value=100),\n",
       " 'ChestPainType': OrdinalEncoder(dtype='int64', handle_unknown='use_encoded_value',\n",
       "                unknown_value=100)}"
      ]
     },
     "execution_count": 21,
     "metadata": {},
     "output_type": "execute_result"
    }
   ],
   "source": [
    "from sklearn.base import BaseEstimator,TransformerMixin\n",
    "\n",
    "class MultiColumnEncoder(BaseEstimator,TransformerMixin):\n",
    "    \n",
    "    def __init__(self,\n",
    "                 columns_to_encode:list = None,\n",
    "                 encoder_dict: dict = None,\n",
    "                 base_encoder = OrdinalEncoder()) -> pd.DataFrame:\n",
    "\n",
    "        #Set the user-definied column list to the class attribute _columns_to_encode\n",
    "        self.columns_to_encode = columns_to_encode\n",
    "\n",
    "        if base_encoder is None:\n",
    "            self.base_encoder = OrdinalEncoder()\n",
    "        else:\n",
    "            self.base_encoder = base_encoder\n",
    "\n",
    "        #If the user passes their own encoder dict\n",
    "        if not encoder_dict:\n",
    "            self.encoder_dict = {column:self.base_encoder for column in self.columns_to_encode}\n",
    "        else:\n",
    "            self.encoder_dict = encoder_dict\n",
    "    \n",
    "    def fit(self,X,y = None):\n",
    "        pass\n",
    "\n",
    "    def fit_transform(self,X,y = None):\n",
    "\n",
    "        if not isinstance(X,pd.DataFrame):\n",
    "            raise Exception(f\"Input datatype must be Pandas Dataframe.  Object passed was of type {type(X)}\")\n",
    "        \n",
    "        for column in self.columns_to_encode:\n",
    "            if column not in X.columns.tolist():\n",
    "                raise Exception(f\"{column} is mising from the input Dataframe\")\n",
    "        \n",
    "        df = X.copy()\n",
    "\n",
    "        for column in df.columns.tolist():\n",
    "\n",
    "            if column not in self.columns_to_encode:\n",
    "                continue\n",
    "\n",
    "            df[column] = self.encoder_dict[column].fit_transform(df[column].to_numpy().reshape(-1,1))\n",
    "        \n",
    "        return df\n",
    "    \n",
    "    def transform(self,X,y = None):\n",
    "        \n",
    "        df = X.copy()\n",
    "\n",
    "        for column in df.columns:\n",
    "\n",
    "            if column in self.encoder_dict.keys():\n",
    "\n",
    "                df[column] = self.encoder_dict[column].transform(df[column].to_numpy().reshape(-1,1))\n",
    "        \n",
    "        return df\n",
    "\n",
    "\n",
    "        \n",
    "        \n",
    "test = MultiColumnEncoder(['Sex','ExerciseAngina','ChestPainType'],base_encoder=OrdinalEncoder(dtype = 'int64',handle_unknown='use_encoded_value',unknown_value=100))\n",
    "test.encoder_dict"
   ]
  },
  {
   "cell_type": "code",
   "execution_count": 36,
   "metadata": {},
   "outputs": [
    {
     "data": {
      "text/html": [
       "<style>#sk-container-id-8 {color: black;background-color: white;}#sk-container-id-8 pre{padding: 0;}#sk-container-id-8 div.sk-toggleable {background-color: white;}#sk-container-id-8 label.sk-toggleable__label {cursor: pointer;display: block;width: 100%;margin-bottom: 0;padding: 0.3em;box-sizing: border-box;text-align: center;}#sk-container-id-8 label.sk-toggleable__label-arrow:before {content: \"▸\";float: left;margin-right: 0.25em;color: #696969;}#sk-container-id-8 label.sk-toggleable__label-arrow:hover:before {color: black;}#sk-container-id-8 div.sk-estimator:hover label.sk-toggleable__label-arrow:before {color: black;}#sk-container-id-8 div.sk-toggleable__content {max-height: 0;max-width: 0;overflow: hidden;text-align: left;background-color: #f0f8ff;}#sk-container-id-8 div.sk-toggleable__content pre {margin: 0.2em;color: black;border-radius: 0.25em;background-color: #f0f8ff;}#sk-container-id-8 input.sk-toggleable__control:checked~div.sk-toggleable__content {max-height: 200px;max-width: 100%;overflow: auto;}#sk-container-id-8 input.sk-toggleable__control:checked~label.sk-toggleable__label-arrow:before {content: \"▾\";}#sk-container-id-8 div.sk-estimator input.sk-toggleable__control:checked~label.sk-toggleable__label {background-color: #d4ebff;}#sk-container-id-8 div.sk-label input.sk-toggleable__control:checked~label.sk-toggleable__label {background-color: #d4ebff;}#sk-container-id-8 input.sk-hidden--visually {border: 0;clip: rect(1px 1px 1px 1px);clip: rect(1px, 1px, 1px, 1px);height: 1px;margin: -1px;overflow: hidden;padding: 0;position: absolute;width: 1px;}#sk-container-id-8 div.sk-estimator {font-family: monospace;background-color: #f0f8ff;border: 1px dotted black;border-radius: 0.25em;box-sizing: border-box;margin-bottom: 0.5em;}#sk-container-id-8 div.sk-estimator:hover {background-color: #d4ebff;}#sk-container-id-8 div.sk-parallel-item::after {content: \"\";width: 100%;border-bottom: 1px solid gray;flex-grow: 1;}#sk-container-id-8 div.sk-label:hover label.sk-toggleable__label {background-color: #d4ebff;}#sk-container-id-8 div.sk-serial::before {content: \"\";position: absolute;border-left: 1px solid gray;box-sizing: border-box;top: 0;bottom: 0;left: 50%;z-index: 0;}#sk-container-id-8 div.sk-serial {display: flex;flex-direction: column;align-items: center;background-color: white;padding-right: 0.2em;padding-left: 0.2em;position: relative;}#sk-container-id-8 div.sk-item {position: relative;z-index: 1;}#sk-container-id-8 div.sk-parallel {display: flex;align-items: stretch;justify-content: center;background-color: white;position: relative;}#sk-container-id-8 div.sk-item::before, #sk-container-id-8 div.sk-parallel-item::before {content: \"\";position: absolute;border-left: 1px solid gray;box-sizing: border-box;top: 0;bottom: 0;left: 50%;z-index: -1;}#sk-container-id-8 div.sk-parallel-item {display: flex;flex-direction: column;z-index: 1;position: relative;background-color: white;}#sk-container-id-8 div.sk-parallel-item:first-child::after {align-self: flex-end;width: 50%;}#sk-container-id-8 div.sk-parallel-item:last-child::after {align-self: flex-start;width: 50%;}#sk-container-id-8 div.sk-parallel-item:only-child::after {width: 0;}#sk-container-id-8 div.sk-dashed-wrapped {border: 1px dashed gray;margin: 0 0.4em 0.5em 0.4em;box-sizing: border-box;padding-bottom: 0.4em;background-color: white;}#sk-container-id-8 div.sk-label label {font-family: monospace;font-weight: bold;display: inline-block;line-height: 1.2em;}#sk-container-id-8 div.sk-label-container {text-align: center;}#sk-container-id-8 div.sk-container {/* jupyter's `normalize.less` sets `[hidden] { display: none; }` but bootstrap.min.css set `[hidden] { display: none !important; }` so we also need the `!important` here to be able to override the default hidden behavior on the sphinx rendered scikit-learn.org. See: https://github.com/scikit-learn/scikit-learn/issues/21755 */display: inline-block !important;position: relative;}#sk-container-id-8 div.sk-text-repr-fallback {display: none;}</style><div id=\"sk-container-id-8\" class=\"sk-top-container\"><div class=\"sk-text-repr-fallback\"><pre>Pipeline(steps=[(&#x27;multi_column_encoder&#x27;,\n",
       "                 MultiColumnEncoder(base_encoder=OrdinalEncoder(dtype=&#x27;int64&#x27;,\n",
       "                                                                handle_unknown=&#x27;use_encoded_value&#x27;,\n",
       "                                                                unknown_value=100),\n",
       "                                    columns_to_encode=[&#x27;Sex&#x27;, &#x27;ExerciseAngina&#x27;,\n",
       "                                                       &#x27;ChestPainType&#x27;,\n",
       "                                                       &#x27;RestingECG&#x27;,\n",
       "                                                       &#x27;ST_Slope&#x27;],\n",
       "                                    encoder_dict={&#x27;ChestPainType&#x27;: OrdinalEncoder(dtype=&#x27;int64&#x27;,\n",
       "                                                                                  handle_unknown=&#x27;use_encoded_value&#x27;,\n",
       "                                                                                  unknown_value=100)...\n",
       "                                                                                   unknown_value=100),\n",
       "                                                  &#x27;RestingECG&#x27;: OrdinalEncoder(dtype=&#x27;int64&#x27;,\n",
       "                                                                               handle_unknown=&#x27;use_encoded_value&#x27;,\n",
       "                                                                               unknown_value=100),\n",
       "                                                  &#x27;ST_Slope&#x27;: OrdinalEncoder(dtype=&#x27;int64&#x27;,\n",
       "                                                                             handle_unknown=&#x27;use_encoded_value&#x27;,\n",
       "                                                                             unknown_value=100),\n",
       "                                                  &#x27;Sex&#x27;: OrdinalEncoder(dtype=&#x27;int64&#x27;,\n",
       "                                                                        handle_unknown=&#x27;use_encoded_value&#x27;,\n",
       "                                                                        unknown_value=100)})),\n",
       "                (&#x27;random_forest&#x27;, RandomForestClassifier(n_estimators=500))])</pre><b>In a Jupyter environment, please rerun this cell to show the HTML representation or trust the notebook. <br />On GitHub, the HTML representation is unable to render, please try loading this page with nbviewer.org.</b></div><div class=\"sk-container\" hidden><div class=\"sk-item sk-dashed-wrapped\"><div class=\"sk-label-container\"><div class=\"sk-label sk-toggleable\"><input class=\"sk-toggleable__control sk-hidden--visually\" id=\"sk-estimator-id-30\" type=\"checkbox\" ><label for=\"sk-estimator-id-30\" class=\"sk-toggleable__label sk-toggleable__label-arrow\">Pipeline</label><div class=\"sk-toggleable__content\"><pre>Pipeline(steps=[(&#x27;multi_column_encoder&#x27;,\n",
       "                 MultiColumnEncoder(base_encoder=OrdinalEncoder(dtype=&#x27;int64&#x27;,\n",
       "                                                                handle_unknown=&#x27;use_encoded_value&#x27;,\n",
       "                                                                unknown_value=100),\n",
       "                                    columns_to_encode=[&#x27;Sex&#x27;, &#x27;ExerciseAngina&#x27;,\n",
       "                                                       &#x27;ChestPainType&#x27;,\n",
       "                                                       &#x27;RestingECG&#x27;,\n",
       "                                                       &#x27;ST_Slope&#x27;],\n",
       "                                    encoder_dict={&#x27;ChestPainType&#x27;: OrdinalEncoder(dtype=&#x27;int64&#x27;,\n",
       "                                                                                  handle_unknown=&#x27;use_encoded_value&#x27;,\n",
       "                                                                                  unknown_value=100)...\n",
       "                                                                                   unknown_value=100),\n",
       "                                                  &#x27;RestingECG&#x27;: OrdinalEncoder(dtype=&#x27;int64&#x27;,\n",
       "                                                                               handle_unknown=&#x27;use_encoded_value&#x27;,\n",
       "                                                                               unknown_value=100),\n",
       "                                                  &#x27;ST_Slope&#x27;: OrdinalEncoder(dtype=&#x27;int64&#x27;,\n",
       "                                                                             handle_unknown=&#x27;use_encoded_value&#x27;,\n",
       "                                                                             unknown_value=100),\n",
       "                                                  &#x27;Sex&#x27;: OrdinalEncoder(dtype=&#x27;int64&#x27;,\n",
       "                                                                        handle_unknown=&#x27;use_encoded_value&#x27;,\n",
       "                                                                        unknown_value=100)})),\n",
       "                (&#x27;random_forest&#x27;, RandomForestClassifier(n_estimators=500))])</pre></div></div></div><div class=\"sk-serial\"><div class=\"sk-item sk-dashed-wrapped\"><div class=\"sk-label-container\"><div class=\"sk-label sk-toggleable\"><input class=\"sk-toggleable__control sk-hidden--visually\" id=\"sk-estimator-id-31\" type=\"checkbox\" ><label for=\"sk-estimator-id-31\" class=\"sk-toggleable__label sk-toggleable__label-arrow\">multi_column_encoder: MultiColumnEncoder</label><div class=\"sk-toggleable__content\"><pre>MultiColumnEncoder(base_encoder=OrdinalEncoder(dtype=&#x27;int64&#x27;,\n",
       "                                               handle_unknown=&#x27;use_encoded_value&#x27;,\n",
       "                                               unknown_value=100),\n",
       "                   columns_to_encode=[&#x27;Sex&#x27;, &#x27;ExerciseAngina&#x27;, &#x27;ChestPainType&#x27;,\n",
       "                                      &#x27;RestingECG&#x27;, &#x27;ST_Slope&#x27;],\n",
       "                   encoder_dict={&#x27;ChestPainType&#x27;: OrdinalEncoder(dtype=&#x27;int64&#x27;,\n",
       "                                                                 handle_unknown=&#x27;use_encoded_value&#x27;,\n",
       "                                                                 unknown_value=100),\n",
       "                                 &#x27;ExerciseAngina&#x27;: OrdinalEncoder(dtype=&#x27;int64&#x27;,\n",
       "                                                                  handle_unknown=&#x27;use_encoded_value&#x27;,\n",
       "                                                                  unknown_value=100),\n",
       "                                 &#x27;RestingECG&#x27;: OrdinalEncoder(dtype=&#x27;int64&#x27;,\n",
       "                                                              handle_unknown=&#x27;use_encoded_value&#x27;,\n",
       "                                                              unknown_value=100),\n",
       "                                 &#x27;ST_Slope&#x27;: OrdinalEncoder(dtype=&#x27;int64&#x27;,\n",
       "                                                            handle_unknown=&#x27;use_encoded_value&#x27;,\n",
       "                                                            unknown_value=100),\n",
       "                                 &#x27;Sex&#x27;: OrdinalEncoder(dtype=&#x27;int64&#x27;,\n",
       "                                                       handle_unknown=&#x27;use_encoded_value&#x27;,\n",
       "                                                       unknown_value=100)})</pre></div></div></div><div class=\"sk-parallel\"><div class=\"sk-parallel-item\"><div class=\"sk-item\"><div class=\"sk-label-container\"><div class=\"sk-label sk-toggleable\"><input class=\"sk-toggleable__control sk-hidden--visually\" id=\"sk-estimator-id-32\" type=\"checkbox\" ><label for=\"sk-estimator-id-32\" class=\"sk-toggleable__label sk-toggleable__label-arrow\">base_encoder: OrdinalEncoder</label><div class=\"sk-toggleable__content\"><pre>OrdinalEncoder(dtype=&#x27;int64&#x27;, handle_unknown=&#x27;use_encoded_value&#x27;,\n",
       "               unknown_value=100)</pre></div></div></div><div class=\"sk-serial\"><div class=\"sk-item\"><div class=\"sk-estimator sk-toggleable\"><input class=\"sk-toggleable__control sk-hidden--visually\" id=\"sk-estimator-id-33\" type=\"checkbox\" ><label for=\"sk-estimator-id-33\" class=\"sk-toggleable__label sk-toggleable__label-arrow\">OrdinalEncoder</label><div class=\"sk-toggleable__content\"><pre>OrdinalEncoder(dtype=&#x27;int64&#x27;, handle_unknown=&#x27;use_encoded_value&#x27;,\n",
       "               unknown_value=100)</pre></div></div></div></div></div></div></div></div><div class=\"sk-item\"><div class=\"sk-estimator sk-toggleable\"><input class=\"sk-toggleable__control sk-hidden--visually\" id=\"sk-estimator-id-34\" type=\"checkbox\" ><label for=\"sk-estimator-id-34\" class=\"sk-toggleable__label sk-toggleable__label-arrow\">RandomForestClassifier</label><div class=\"sk-toggleable__content\"><pre>RandomForestClassifier(n_estimators=500)</pre></div></div></div></div></div></div></div>"
      ],
      "text/plain": [
       "Pipeline(steps=[('multi_column_encoder',\n",
       "                 MultiColumnEncoder(base_encoder=OrdinalEncoder(dtype='int64',\n",
       "                                                                handle_unknown='use_encoded_value',\n",
       "                                                                unknown_value=100),\n",
       "                                    columns_to_encode=['Sex', 'ExerciseAngina',\n",
       "                                                       'ChestPainType',\n",
       "                                                       'RestingECG',\n",
       "                                                       'ST_Slope'],\n",
       "                                    encoder_dict={'ChestPainType': OrdinalEncoder(dtype='int64',\n",
       "                                                                                  handle_unknown='use_encoded_value',\n",
       "                                                                                  unknown_value=100)...\n",
       "                                                                                   unknown_value=100),\n",
       "                                                  'RestingECG': OrdinalEncoder(dtype='int64',\n",
       "                                                                               handle_unknown='use_encoded_value',\n",
       "                                                                               unknown_value=100),\n",
       "                                                  'ST_Slope': OrdinalEncoder(dtype='int64',\n",
       "                                                                             handle_unknown='use_encoded_value',\n",
       "                                                                             unknown_value=100),\n",
       "                                                  'Sex': OrdinalEncoder(dtype='int64',\n",
       "                                                                        handle_unknown='use_encoded_value',\n",
       "                                                                        unknown_value=100)})),\n",
       "                ('random_forest', RandomForestClassifier(n_estimators=500))])"
      ]
     },
     "execution_count": 36,
     "metadata": {},
     "output_type": "execute_result"
    }
   ],
   "source": [
    "X,y = df.drop('HeartDisease',axis = 1),df.HeartDisease.to_numpy()\n",
    "X_train, X_test, y_train, y_test = train_test_split(X,y,test_size = 0.2,random_state=226)\n",
    "\n",
    "pipe = Pipeline([\n",
    "    ('multi_column_encoder',MultiColumnEncoder(['Sex','ExerciseAngina','ChestPainType','RestingECG','ST_Slope'],\n",
    "                                                base_encoder=OrdinalEncoder(dtype = 'int64',\n",
    "                                                                            handle_unknown='use_encoded_value',\n",
    "                                                                            unknown_value=100))),\n",
    "    ('random_forest',RandomForestClassifier(n_estimators=500))\n",
    "])\n",
    "pipe.fit(X_train,y_train)\n"
   ]
  },
  {
   "cell_type": "code",
   "execution_count": 37,
   "metadata": {},
   "outputs": [
    {
     "data": {
      "text/plain": [
       "0.842391304347826"
      ]
     },
     "execution_count": 37,
     "metadata": {},
     "output_type": "execute_result"
    }
   ],
   "source": [
    "pipe.score(X_test,y_test)"
   ]
  },
  {
   "cell_type": "code",
   "execution_count": 38,
   "metadata": {},
   "outputs": [
    {
     "data": {
      "text/plain": [
       "[('Age', 0.08639815943518675),\n",
       " ('Sex', 0.04068326103835821),\n",
       " ('ChestPainType', 0.12902552619794655),\n",
       " ('RestingBP', 0.07254909310232148),\n",
       " ('Cholesterol', 0.1092861543226467),\n",
       " ('FastingBS', 0.02813796315742461),\n",
       " ('RestingECG', 0.027391851159859225),\n",
       " ('MaxHR', 0.10356095154064379),\n",
       " ('ExerciseAngina', 0.07068318375513369),\n",
       " ('Oldpeak', 0.10532507261065012),\n",
       " ('ST_Slope', 0.2269587836798289)]"
      ]
     },
     "execution_count": 38,
     "metadata": {},
     "output_type": "execute_result"
    }
   ],
   "source": [
    "[(feature,importance) for feature,importance in zip(X_train.columns.tolist(),pipe['random_forest'].feature_importances_)]"
   ]
  },
  {
   "cell_type": "code",
   "execution_count": 31,
   "metadata": {},
   "outputs": [
    {
     "name": "stderr",
     "output_type": "stream",
     "text": [
      "c:\\Users\\fmath\\anaconda3\\lib\\site-packages\\seaborn\\_decorators.py:36: FutureWarning: Pass the following variable as a keyword arg: x. From version 0.12, the only valid positional argument will be `data`, and passing other arguments without an explicit keyword will result in an error or misinterpretation.\n",
      "  warnings.warn(\n"
     ]
    },
    {
     "data": {
      "text/plain": [
       "<AxesSubplot:ylabel='count'>"
      ]
     },
     "execution_count": 31,
     "metadata": {},
     "output_type": "execute_result"
    },
    {
     "data": {
      "image/png": "[encoded data removed]",
      "text/plain": [
       "<Figure size 640x480 with 1 Axes>"
      ]
     },
     "metadata": {},
     "output_type": "display_data"
    }
   ],
   "source": [
    "sns.countplot(y)"
   ]
  }
 ],
 "metadata": {
  "kernelspec": {
   "display_name": "Python 3.9.7 ('base')",
   "language": "python",
   "name": "python3"
  },
  "language_info": {
   "codemirror_mode": {
    "name": "ipython",
    "version": 3
   },
   "file_extension": ".py",
   "mimetype": "text/x-python",
   "name": "python",
   "nbconvert_exporter": "python",
   "pygments_lexer": "ipython3",
   "version": "3.9.7"
  },
  "orig_nbformat": 4,
  "vscode": {
   "interpreter": {
    "hash": "df36b4008477cbb48374c583daaf8481895fa41f466162227fbed12f9b409580"
   }
  }
 },
 "nbformat": 4,
 "nbformat_minor": 2
}
